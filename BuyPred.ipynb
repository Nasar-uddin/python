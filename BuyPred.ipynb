{
 "cells": [
  {
   "cell_type": "code",
   "execution_count": 4,
   "metadata": {},
   "outputs": [],
   "source": [
    "import numpy as np\n",
    "from sklearn import preprocessing"
   ]
  },
  {
   "cell_type": "code",
   "execution_count": 5,
   "metadata": {},
   "outputs": [],
   "source": [
    "from sklearn.naive_bayes import GaussianNB"
   ]
  },
  {
   "cell_type": "code",
   "execution_count": 6,
   "metadata": {},
   "outputs": [],
   "source": [
    "le = preprocessing.LabelEncoder()"
   ]
  },
  {
   "cell_type": "code",
   "execution_count": 8,
   "metadata": {},
   "outputs": [],
   "source": [
    "model = GaussianNB()\n",
    "#All package initialized"
   ]
  },
  {
   "cell_type": "code",
   "execution_count": 22,
   "metadata": {},
   "outputs": [],
   "source": [
    "#data for prediction\n",
    "age = np.array(['<=30','<=30','31…40','>40','>40','>40','31…40','<=30','<=30','>40','<=30','31…40','31…40','>40'])\n",
    "income = np.array(['high','high','high','medium','low','low','low','medium','low','medium','medium','medium','high','medium'\n",
    "])\n",
    "is_student = np.array([\n",
    "'no','no','no','no','yes','yes','yes','no','yes','yes','yes','no','yes','no'])\n",
    "credit_rating = np.array(['fair','excellent','fair','fair','fair','excellent','excellent','fair',\n",
    "'fair','fair','excellent','excellent','fair','excellent'])\n",
    "buys_computer = np.array(['no','no','yes','yes','yes','no','yes','no','yes','yes','yes','yes','yes','no'])"
   ]
  },
  {
   "cell_type": "code",
   "execution_count": 23,
   "metadata": {},
   "outputs": [],
   "source": [
    "#label encoding of data\n",
    "en_age = le.fit_transform(age)"
   ]
  },
  {
   "cell_type": "code",
   "execution_count": 25,
   "metadata": {},
   "outputs": [
    {
     "data": {
      "text/plain": [
       "array([1, 1, 0, 2, 2, 2, 0, 1, 1, 2, 1, 0, 0, 2], dtype=int32)"
      ]
     },
     "execution_count": 25,
     "metadata": {},
     "output_type": "execute_result"
    }
   ],
   "source": [
    "en_age"
   ]
  },
  {
   "cell_type": "code",
   "execution_count": 27,
   "metadata": {},
   "outputs": [],
   "source": [
    "en_income = le.fit_transform(income)"
   ]
  },
  {
   "cell_type": "code",
   "execution_count": 28,
   "metadata": {},
   "outputs": [
    {
     "data": {
      "text/plain": [
       "array([0, 0, 0, 2, 1, 1, 1, 2, 1, 2, 2, 2, 0, 2], dtype=int32)"
      ]
     },
     "execution_count": 28,
     "metadata": {},
     "output_type": "execute_result"
    }
   ],
   "source": [
    "en_income"
   ]
  },
  {
   "cell_type": "code",
   "execution_count": 30,
   "metadata": {},
   "outputs": [],
   "source": [
    "en_is_student = le.fit_transform(is_student)"
   ]
  },
  {
   "cell_type": "code",
   "execution_count": 32,
   "metadata": {},
   "outputs": [
    {
     "data": {
      "text/plain": [
       "array([0, 0, 0, 0, 1, 1, 1, 0, 1, 1, 1, 0, 1, 0], dtype=int32)"
      ]
     },
     "execution_count": 32,
     "metadata": {},
     "output_type": "execute_result"
    }
   ],
   "source": [
    "en_is_student"
   ]
  },
  {
   "cell_type": "code",
   "execution_count": 34,
   "metadata": {},
   "outputs": [
    {
     "data": {
      "text/plain": [
       "array([1, 0, 1, 1, 1, 0, 0, 1, 1, 1, 0, 0, 1, 0], dtype=int32)"
      ]
     },
     "execution_count": 34,
     "metadata": {},
     "output_type": "execute_result"
    }
   ],
   "source": [
    "en_credit_rating = le.fit_transform(credit_rating)\n",
    "en_credit_rating"
   ]
  },
  {
   "cell_type": "code",
   "execution_count": 39,
   "metadata": {},
   "outputs": [],
   "source": [
    "en_buys_compyter = le.fit_transform(buys_computer)"
   ]
  },
  {
   "cell_type": "code",
   "execution_count": 40,
   "metadata": {},
   "outputs": [
    {
     "data": {
      "text/plain": [
       "array([0, 0, 1, 1, 1, 0, 1, 0, 1, 1, 1, 1, 1, 0], dtype=int32)"
      ]
     },
     "execution_count": 40,
     "metadata": {},
     "output_type": "execute_result"
    }
   ],
   "source": [
    "en_buys_compyter"
   ]
  },
  {
   "cell_type": "code",
   "execution_count": 49,
   "metadata": {},
   "outputs": [],
   "source": [
    "zip_data = lambda age,income,is_student,credit_rating:[list(data) for data in zip(age,income,is_student,credit_rating)]"
   ]
  },
  {
   "cell_type": "code",
   "execution_count": 58,
   "metadata": {},
   "outputs": [],
   "source": [
    "train_data = zip_data(en_age,en_income,en_is_student,en_credit_rating)"
   ]
  },
  {
   "cell_type": "code",
   "execution_count": 59,
   "metadata": {},
   "outputs": [
    {
     "data": {
      "text/plain": [
       "[[1, 0, 0, 1],\n",
       " [1, 0, 0, 0],\n",
       " [0, 0, 0, 1],\n",
       " [2, 2, 0, 1],\n",
       " [2, 1, 1, 1],\n",
       " [2, 1, 1, 0],\n",
       " [0, 1, 1, 0],\n",
       " [1, 2, 0, 1],\n",
       " [1, 1, 1, 1],\n",
       " [2, 2, 1, 1],\n",
       " [1, 2, 1, 0],\n",
       " [0, 2, 0, 0],\n",
       " [0, 0, 1, 1],\n",
       " [2, 2, 0, 0]]"
      ]
     },
     "execution_count": 59,
     "metadata": {},
     "output_type": "execute_result"
    }
   ],
   "source": [
    "train_data"
   ]
  },
  {
   "cell_type": "code",
   "execution_count": 61,
   "metadata": {},
   "outputs": [
    {
     "data": {
      "text/plain": [
       "[['<=30', 'high', 'no', 'fair'],\n",
       " ['<=30', 'high', 'no', 'excellent'],\n",
       " ['31…40', 'high', 'no', 'fair'],\n",
       " ['>40', 'medium', 'no', 'fair'],\n",
       " ['>40', 'low', 'yes', 'fair'],\n",
       " ['>40', 'low', 'yes', 'excellent'],\n",
       " ['31…40', 'low', 'yes', 'excellent'],\n",
       " ['<=30', 'medium', 'no', 'fair'],\n",
       " ['<=30', 'low', 'yes', 'fair'],\n",
       " ['>40', 'medium', 'yes', 'fair'],\n",
       " ['<=30', 'medium', 'yes', 'excellent'],\n",
       " ['31…40', 'medium', 'no', 'excellent'],\n",
       " ['31…40', 'high', 'yes', 'fair'],\n",
       " ['>40', 'medium', 'no', 'excellent']]"
      ]
     },
     "execution_count": 61,
     "metadata": {},
     "output_type": "execute_result"
    }
   ],
   "source": [
    "show_data = zip_data(age,income,is_student,credit_rating)\n",
    "show_data"
   ]
  },
  {
   "cell_type": "code",
   "execution_count": 62,
   "metadata": {},
   "outputs": [
    {
     "data": {
      "text/plain": [
       "GaussianNB(priors=None, var_smoothing=1e-09)"
      ]
     },
     "execution_count": 62,
     "metadata": {},
     "output_type": "execute_result"
    }
   ],
   "source": [
    "model.fit(train_data,en_buys_compyter)"
   ]
  },
  {
   "cell_type": "code",
   "execution_count": 71,
   "metadata": {},
   "outputs": [],
   "source": [
    "ans = model.predict([[1, 0, 1, 1]])"
   ]
  },
  {
   "cell_type": "code",
   "execution_count": 72,
   "metadata": {},
   "outputs": [
    {
     "data": {
      "text/plain": [
       "array([1], dtype=int32)"
      ]
     },
     "execution_count": 72,
     "metadata": {},
     "output_type": "execute_result"
    }
   ],
   "source": [
    "ans"
   ]
  }
 ],
 "metadata": {
  "kernelspec": {
   "display_name": "Python 3",
   "language": "python",
   "name": "python3"
  },
  "language_info": {
   "codemirror_mode": {
    "name": "ipython",
    "version": 3
   },
   "file_extension": ".py",
   "mimetype": "text/x-python",
   "name": "python",
   "nbconvert_exporter": "python",
   "pygments_lexer": "ipython3",
   "version": "3.7.3"
  }
 },
 "nbformat": 4,
 "nbformat_minor": 2
}
